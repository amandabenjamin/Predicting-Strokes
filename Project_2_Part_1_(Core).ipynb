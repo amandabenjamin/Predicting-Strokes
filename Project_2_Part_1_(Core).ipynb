{
  "nbformat": 4,
  "nbformat_minor": 0,
  "metadata": {
    "colab": {
      "name": "Project 2 - Part 1 (Core).ipynb",
      "provenance": [],
      "authorship_tag": "ABX9TyNFa6LXKsVJsAJtCsK9OzIM",
      "include_colab_link": true
    },
    "kernelspec": {
      "name": "python3",
      "display_name": "Python 3"
    },
    "language_info": {
      "name": "python"
    }
  },
  "cells": [
    {
      "cell_type": "markdown",
      "metadata": {
        "id": "view-in-github",
        "colab_type": "text"
      },
      "source": [
        "<a href=\"https://colab.research.google.com/github/amandabenjamin/Predicting-Strokes/blob/main/Project_2_Part_1_(Core).ipynb\" target=\"_parent\"><img src=\"https://colab.research.google.com/assets/colab-badge.svg\" alt=\"Open In Colab\"/></a>"
      ]
    },
    {
      "cell_type": "markdown",
      "source": [
        "Amanda Benjamin\n",
        "\n",
        "Date: 4/08/2022"
      ],
      "metadata": {
        "id": "Fjj_taiG70iU"
      }
    },
    {
      "cell_type": "markdown",
      "source": [
        "# Dataset 1: Stroke Prediction Dataset"
      ],
      "metadata": {
        "id": "cwDXWe2g756b"
      }
    },
    {
      "cell_type": "markdown",
      "source": [
        "**1) Source of the data**"
      ],
      "metadata": {
        "id": "1Ak_nps08E5k"
      }
    },
    {
      "cell_type": "markdown",
      "source": [
        "I found this dataset on Kaggle, you can access the dataset from the following link: https://www.kaggle.com/datasets/fedesoriano/stroke-prediction-dataset. \n",
        "\n",
        "This data is available for educational use so long as the author is credited. "
      ],
      "metadata": {
        "id": "ys8Y_xQE9WXz"
      }
    },
    {
      "cell_type": "markdown",
      "source": [
        "**2) Brief description of data**"
      ],
      "metadata": {
        "id": "pdaImC6f8S4-"
      }
    },
    {
      "cell_type": "markdown",
      "source": [
        "This dataset allows one to predict the likelyhood of a stroke given relavent information about each unique patient including but not limited to: gender, age, marriage status, average glucose level, and bmi. "
      ],
      "metadata": {
        "id": "f8aflGOX-DXa"
      }
    },
    {
      "cell_type": "markdown",
      "source": [
        "**3) What is the target?**"
      ],
      "metadata": {
        "id": "6DjsFzTW8WrO"
      }
    },
    {
      "cell_type": "markdown",
      "source": [
        "The target is the 'stroke' outcome (column) - where 1 indicates the patient had a stroke and 0 indicates the patient did not have a stroke. "
      ],
      "metadata": {
        "id": "6pcWP5tP-gAZ"
      }
    },
    {
      "cell_type": "markdown",
      "source": [
        "**4) Is this a classification or regression problem?**"
      ],
      "metadata": {
        "id": "7SB4T-fg8Z3p"
      }
    },
    {
      "cell_type": "markdown",
      "source": [
        "This is a classification problem. "
      ],
      "metadata": {
        "id": "ZRXbsW2E-ztc"
      }
    },
    {
      "cell_type": "markdown",
      "source": [
        "**5) How many features?**"
      ],
      "metadata": {
        "id": "OkwRt-Vf8ege"
      }
    },
    {
      "cell_type": "markdown",
      "source": [
        "There are 11 clinicnal features that will be used to predict a 'stroke outcome'. "
      ],
      "metadata": {
        "id": "mPcRn0_k-3v-"
      }
    },
    {
      "cell_type": "markdown",
      "source": [
        "**6) How many rows of data?**"
      ],
      "metadata": {
        "id": "SXLSYsUl8jcq"
      }
    },
    {
      "cell_type": "code",
      "source": [
        "from google.colab import drive\n",
        "drive.mount('/content/drive')"
      ],
      "metadata": {
        "colab": {
          "base_uri": "https://localhost:8080/"
        },
        "id": "qu3V5pHJ_O2K",
        "outputId": "3f161bc8-74fd-4d92-b4a1-35f911d3324f"
      },
      "execution_count": 2,
      "outputs": [
        {
          "output_type": "stream",
          "name": "stdout",
          "text": [
            "Mounted at /content/drive\n"
          ]
        }
      ]
    },
    {
      "cell_type": "code",
      "source": [
        "import pandas as pd\n",
        "df = pd.read_csv('/content/drive/MyDrive/Coding Dojo/07 Week 7: Classification Models/stroke_prediction.csv')\n",
        "df.shaped"
      ],
      "metadata": {
        "id": "nzZF_w58_cT_"
      },
      "execution_count": 4,
      "outputs": []
    },
    {
      "cell_type": "markdown",
      "source": [
        "There are 5110 rows of data (including the header). "
      ],
      "metadata": {
        "id": "Fv_vr7_G_t7k"
      }
    },
    {
      "cell_type": "markdown",
      "source": [
        "**7) What, if any, challenges do you foresee in cleaning, expoloring, or modeling with this dataset?**"
      ],
      "metadata": {
        "id": "JA_2qhwB8nQm"
      }
    },
    {
      "cell_type": "markdown",
      "source": [
        "I see there is a note for unknown smoker status - potentially, there might be too many nan values for this feature to drop without affecting the dataset/model outcomes. "
      ],
      "metadata": {
        "id": "b7EiU1Mu_8E8"
      }
    },
    {
      "cell_type": "markdown",
      "source": [
        "# Dataset 2: "
      ],
      "metadata": {
        "id": "07YESmuu76fv"
      }
    },
    {
      "cell_type": "markdown",
      "source": [
        "**1) Source of data**"
      ],
      "metadata": {
        "id": "fiMIDEjc8xjH"
      }
    },
    {
      "cell_type": "markdown",
      "source": [
        "I found this dataset on Kaggle, you can access the dataset from the following link: https://www.kaggle.com/datasets/uciml/red-wine-quality-cortez-et-al-2009\n",
        "\n",
        "This data is available with an open public license. "
      ],
      "metadata": {
        "id": "XMU3oWpTCdmr"
      }
    },
    {
      "cell_type": "markdown",
      "source": [
        "**2) Brief description of data**"
      ],
      "metadata": {
        "id": "1Lzy6WAI83cJ"
      }
    },
    {
      "cell_type": "markdown",
      "source": [
        "This dataset provides a collection of physicochemical and sensory variables related to red and white variants of 'Vinho Verde' wine used to predict the 'rating' of the wine. "
      ],
      "metadata": {
        "id": "JRSAWT3KC3Po"
      }
    },
    {
      "cell_type": "markdown",
      "source": [
        "**3) What is the target?**"
      ],
      "metadata": {
        "id": "PFg9s1NG87wj"
      }
    },
    {
      "cell_type": "markdown",
      "source": [
        "The target is the quality score of the wine (between 0 and 10). "
      ],
      "metadata": {
        "id": "MwBMlr25DQYu"
      }
    },
    {
      "cell_type": "markdown",
      "source": [
        "**4) Is this a classification or regression problem?**"
      ],
      "metadata": {
        "id": "5GyFWQpa8-yB"
      }
    },
    {
      "cell_type": "markdown",
      "source": [
        "This is a regression problem. "
      ],
      "metadata": {
        "id": "InV6vT1zDZmX"
      }
    },
    {
      "cell_type": "markdown",
      "source": [
        "**5) How many features?**"
      ],
      "metadata": {
        "id": "F31mH2t39CxY"
      }
    },
    {
      "cell_type": "markdown",
      "source": [
        "There are ll features - including but not limited to: the density of the wine, pH, and acidity (fixed and volatile). "
      ],
      "metadata": {
        "id": "7PogTsAzDdHl"
      }
    },
    {
      "cell_type": "markdown",
      "source": [
        "**6) How many rows of data?**"
      ],
      "metadata": {
        "id": "3oVE1hvF9GGX"
      }
    },
    {
      "cell_type": "code",
      "source": [
        "import pandas as pd\n",
        "df = pd.read_csv('/content/drive/MyDrive/Coding Dojo/07 Week 7: Classification Models/winequality-red.csv')\n",
        "df.shape"
      ],
      "metadata": {
        "colab": {
          "base_uri": "https://localhost:8080/"
        },
        "id": "CmOAtK7WDpB-",
        "outputId": "28df7bae-89d4-48f4-838f-45cfccf4d954"
      },
      "execution_count": 7,
      "outputs": [
        {
          "output_type": "execute_result",
          "data": {
            "text/plain": [
              "(1599, 12)"
            ]
          },
          "metadata": {},
          "execution_count": 7
        }
      ]
    },
    {
      "cell_type": "markdown",
      "source": [
        "There are 1599 rows of data (including the header). "
      ],
      "metadata": {
        "id": "cWoD6hIUD353"
      }
    },
    {
      "cell_type": "markdown",
      "source": [
        "**7) What, if any, challenges do you foresee in cleaning, expoloring, or modeling with this dataset?**"
      ],
      "metadata": {
        "id": "kEZ-F3-X9JY8"
      }
    },
    {
      "cell_type": "markdown",
      "source": [
        "The visualizations might be limited for this dataset may be limited as there is only numerial data provided for this dataset - potentially making interpretation hard for me and my audience. "
      ],
      "metadata": {
        "id": "m07NoiYrED0w"
      }
    }
  ]
}